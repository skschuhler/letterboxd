{
 "cells": [
  {
   "cell_type": "code",
   "execution_count": 1,
   "metadata": {},
   "outputs": [],
   "source": [
    "import pandas as pd\n",
    "import numpy as np\n",
    "import matplotlib.pyplot as plt\n",
    "import seaborn as sns\n",
    "import scipy.sparse as sparse\n",
    "from sklearn.model_selection import KFold, GridSearchCV\n",
    "from sklearn.metrics import precision_score, recall_score, mean_squared_error\n",
    "from implicit import als\n",
    "from sklearn.metrics.pairwise import cosine_similarity\n"
   ]
  },
  {
   "cell_type": "code",
   "execution_count": 2,
   "metadata": {},
   "outputs": [],
   "source": [
    "df = pd.read_csv('data/combined_data.csv')"
   ]
  },
  {
   "cell_type": "code",
   "execution_count": 3,
   "metadata": {},
   "outputs": [
    {
     "data": {
      "text/html": [
       "<div>\n",
       "<style scoped>\n",
       "    .dataframe tbody tr th:only-of-type {\n",
       "        vertical-align: middle;\n",
       "    }\n",
       "\n",
       "    .dataframe tbody tr th {\n",
       "        vertical-align: top;\n",
       "    }\n",
       "\n",
       "    .dataframe thead th {\n",
       "        text-align: right;\n",
       "    }\n",
       "</style>\n",
       "<table border=\"1\" class=\"dataframe\">\n",
       "  <thead>\n",
       "    <tr style=\"text-align: right;\">\n",
       "      <th></th>\n",
       "      <th>user</th>\n",
       "      <th>Title</th>\n",
       "      <th>Rating</th>\n",
       "      <th>Review URL</th>\n",
       "      <th>Liked</th>\n",
       "    </tr>\n",
       "  </thead>\n",
       "  <tbody>\n",
       "    <tr>\n",
       "      <th>0</th>\n",
       "      <td>000_leo</td>\n",
       "      <td>Mufasa: The Lion King</td>\n",
       "      <td>1.5</td>\n",
       "      <td>NaN</td>\n",
       "      <td>False</td>\n",
       "    </tr>\n",
       "    <tr>\n",
       "      <th>1</th>\n",
       "      <td>000_leo</td>\n",
       "      <td>The Six Triple Eight</td>\n",
       "      <td>2.0</td>\n",
       "      <td>NaN</td>\n",
       "      <td>False</td>\n",
       "    </tr>\n",
       "    <tr>\n",
       "      <th>2</th>\n",
       "      <td>000_leo</td>\n",
       "      <td>Cunk on Life</td>\n",
       "      <td>3.5</td>\n",
       "      <td>NaN</td>\n",
       "      <td>False</td>\n",
       "    </tr>\n",
       "    <tr>\n",
       "      <th>3</th>\n",
       "      <td>000_leo</td>\n",
       "      <td>Carry-On</td>\n",
       "      <td>3.0</td>\n",
       "      <td>NaN</td>\n",
       "      <td>False</td>\n",
       "    </tr>\n",
       "    <tr>\n",
       "      <th>4</th>\n",
       "      <td>000_leo</td>\n",
       "      <td>Nosferatu</td>\n",
       "      <td>3.0</td>\n",
       "      <td>NaN</td>\n",
       "      <td>False</td>\n",
       "    </tr>\n",
       "  </tbody>\n",
       "</table>\n",
       "</div>"
      ],
      "text/plain": [
       "      user                  Title  Rating Review URL  Liked\n",
       "0  000_leo  Mufasa: The Lion King     1.5        NaN  False\n",
       "1  000_leo   The Six Triple Eight     2.0        NaN  False\n",
       "2  000_leo           Cunk on Life     3.5        NaN  False\n",
       "3  000_leo               Carry-On     3.0        NaN  False\n",
       "4  000_leo              Nosferatu     3.0        NaN  False"
      ]
     },
     "execution_count": 3,
     "metadata": {},
     "output_type": "execute_result"
    }
   ],
   "source": [
    "df.head()"
   ]
  },
  {
   "cell_type": "code",
   "execution_count": 4,
   "metadata": {},
   "outputs": [
    {
     "name": "stdout",
     "output_type": "stream",
     "text": [
      "number of unique users: 2496\n",
      "number of unique movies: 235227\n",
      "number of ratings: 5407086\n",
      "number of likes: 2140392\n"
     ]
    }
   ],
   "source": [
    "num_unique_users = len(set(df['user']))\n",
    "num_unique_movies = len(set(df['Title']))\n",
    "num_ratings = len(df) - sum(df['Rating'].isna())\n",
    "num_likes = sum(df['Liked'])\n",
    "\n",
    "print(\"number of unique users:\", num_unique_users)\n",
    "print(\"number of unique movies:\", num_unique_movies)\n",
    "print(\"number of ratings:\", num_ratings)\n",
    "print(\"number of likes:\", num_likes)"
   ]
  },
  {
   "cell_type": "markdown",
   "metadata": {},
   "source": [
    "There are only 2496 unique users because 4 of the top 2500 users hadn't logged any films at the time of scraping (week of January 13, 2025)."
   ]
  },
  {
   "cell_type": "code",
   "execution_count": 5,
   "metadata": {},
   "outputs": [
    {
     "name": "stderr",
     "output_type": "stream",
     "text": [
      "C:\\Users\\sarah\\AppData\\Local\\Temp\\ipykernel_14104\\180309627.py:9: FutureWarning: \n",
      "\n",
      "Passing `palette` without assigning `hue` is deprecated and will be removed in v0.14.0. Assign the `x` variable to `hue` and set `legend=False` for the same effect.\n",
      "\n",
      "  sns.barplot(x=rating_counts.index, y=rating_counts.values, palette='Blues')\n"
     ]
    },
    {
     "data": {
      "image/png": "[encoded data removed]",
      "text/plain": [
       "<Figure size 800x600 with 1 Axes>"
      ]
     },
     "metadata": {},
     "output_type": "display_data"
    }
   ],
   "source": [
    "import matplotlib.pyplot as plt\n",
    "import seaborn as sns\n",
    "\n",
    "# Plotting rating distribution\n",
    "plt.figure(figsize=(8,6))\n",
    "\n",
    "# Calculate percentage\n",
    "rating_counts = df['Rating'].value_counts(normalize=True) * 100  # Normalize to get percentage\n",
    "sns.barplot(x=rating_counts.index, y=rating_counts.values, palette='Blues')\n",
    "\n",
    "# Adding labels and title\n",
    "plt.xlabel('Rating')\n",
    "plt.ylabel('Percentage')\n",
    "plt.title('Distribution of Ratings')\n",
    "\n",
    "# Show the plot\n",
    "plt.show()"
   ]
  },
  {
   "cell_type": "code",
   "execution_count": 6,
   "metadata": {},
   "outputs": [
    {
     "name": "stderr",
     "output_type": "stream",
     "text": [
      "C:\\Users\\sarah\\AppData\\Local\\Temp\\ipykernel_14104\\984494158.py:9: FutureWarning: \n",
      "\n",
      "Passing `palette` without assigning `hue` is deprecated and will be removed in v0.14.0. Assign the `x` variable to `hue` and set `legend=False` for the same effect.\n",
      "\n",
      "  sns.barplot(x=rating_counts.index, y=rating_counts.values, palette='Blues')\n"
     ]
    },
    {
     "data": {
      "image/png": "[encoded data removed]",
      "text/plain": [
       "<Figure size 800x600 with 1 Axes>"
      ]
     },
     "metadata": {},
     "output_type": "display_data"
    }
   ],
   "source": [
    "import matplotlib.pyplot as plt\n",
    "import seaborn as sns\n",
    "\n",
    "# Plotting rating distribution\n",
    "plt.figure(figsize=(8,6))\n",
    "\n",
    "# Calculate percentage\n",
    "rating_counts = df['Liked'].value_counts(normalize=True) * 100  # Normalize to get percentage\n",
    "sns.barplot(x=rating_counts.index, y=rating_counts.values, palette='Blues')\n",
    "\n",
    "# Adding labels and title\n",
    "plt.xlabel('Liked')\n",
    "plt.ylabel('Percentage')\n",
    "plt.title('Distribution of Likes')\n",
    "\n",
    "# Show the plot\n",
    "plt.show()"
   ]
  },
  {
   "cell_type": "markdown",
   "metadata": {},
   "source": [
    "Ratings distribution shows left/negative skew. Roughly a third of films were \"liked.\" Will create an \"enjoyed\" indicator that is true if a user rates a film >= 4 stars OR likes it. This will serve to combine likes and ratings into one decisive attribute."
   ]
  },
  {
   "cell_type": "code",
   "execution_count": 7,
   "metadata": {},
   "outputs": [],
   "source": [
    "# Create aggregated user-level features\n",
    "user_features = df.groupby('user').agg(\n",
    "    average_rating=('Rating', 'mean'),\n",
    "    rating_deviation=('Rating', 'std'),\n",
    "    num_ratings=('Rating', 'count'),\n",
    "    num_liked_movies=('Liked', 'sum')\n",
    ")\n",
    "\n",
    "# Add total number of movies\n",
    "user_features['total_movies'] = df.groupby('user')['Title'].apply(lambda x: x.notna().sum())\n",
    "\n",
    "# Calculate percent rated, avoid division by zero\n",
    "user_features['percent_rated'] = user_features['num_ratings'] / user_features['total_movies']\n",
    "user_features['percent_rated'] = user_features['percent_rated'].fillna(0)  # Fill NaN if no ratings\n",
    "\n",
    "user_features['percent_liked'] = user_features['num_liked_movies'] / user_features['total_movies']\n",
    "user_features['percent_liked'] = user_features['percent_liked'].fillna(0)  # Fill NaN if no likes"
   ]
  },
  {
   "cell_type": "code",
   "execution_count": 8,
   "metadata": {},
   "outputs": [
    {
     "data": {
      "text/html": [
       "<div>\n",
       "<style scoped>\n",
       "    .dataframe tbody tr th:only-of-type {\n",
       "        vertical-align: middle;\n",
       "    }\n",
       "\n",
       "    .dataframe tbody tr th {\n",
       "        vertical-align: top;\n",
       "    }\n",
       "\n",
       "    .dataframe thead th {\n",
       "        text-align: right;\n",
       "    }\n",
       "</style>\n",
       "<table border=\"1\" class=\"dataframe\">\n",
       "  <thead>\n",
       "    <tr style=\"text-align: right;\">\n",
       "      <th></th>\n",
       "      <th>average_rating</th>\n",
       "      <th>rating_deviation</th>\n",
       "      <th>num_ratings</th>\n",
       "      <th>num_liked_movies</th>\n",
       "      <th>total_movies</th>\n",
       "      <th>percent_rated</th>\n",
       "      <th>percent_liked</th>\n",
       "    </tr>\n",
       "    <tr>\n",
       "      <th>user</th>\n",
       "      <th></th>\n",
       "      <th></th>\n",
       "      <th></th>\n",
       "      <th></th>\n",
       "      <th></th>\n",
       "      <th></th>\n",
       "      <th></th>\n",
       "    </tr>\n",
       "  </thead>\n",
       "  <tbody>\n",
       "    <tr>\n",
       "      <th>000_leo</th>\n",
       "      <td>2.895613</td>\n",
       "      <td>0.748025</td>\n",
       "      <td>661</td>\n",
       "      <td>215</td>\n",
       "      <td>2782</td>\n",
       "      <td>0.237599</td>\n",
       "      <td>0.077283</td>\n",
       "    </tr>\n",
       "    <tr>\n",
       "      <th>007filmreviwer</th>\n",
       "      <td>3.242786</td>\n",
       "      <td>1.137534</td>\n",
       "      <td>3396</td>\n",
       "      <td>2427</td>\n",
       "      <td>3401</td>\n",
       "      <td>0.998530</td>\n",
       "      <td>0.713614</td>\n",
       "    </tr>\n",
       "    <tr>\n",
       "      <th>14ltobias</th>\n",
       "      <td>3.037292</td>\n",
       "      <td>1.159730</td>\n",
       "      <td>2105</td>\n",
       "      <td>392</td>\n",
       "      <td>2417</td>\n",
       "      <td>0.870914</td>\n",
       "      <td>0.162185</td>\n",
       "    </tr>\n",
       "    <tr>\n",
       "      <th>15stepper</th>\n",
       "      <td>3.526943</td>\n",
       "      <td>1.269656</td>\n",
       "      <td>1930</td>\n",
       "      <td>665</td>\n",
       "      <td>1983</td>\n",
       "      <td>0.973273</td>\n",
       "      <td>0.335350</td>\n",
       "    </tr>\n",
       "    <tr>\n",
       "      <th>19thlvlcleric</th>\n",
       "      <td>3.585258</td>\n",
       "      <td>0.860654</td>\n",
       "      <td>1126</td>\n",
       "      <td>576</td>\n",
       "      <td>1493</td>\n",
       "      <td>0.754186</td>\n",
       "      <td>0.385800</td>\n",
       "    </tr>\n",
       "    <tr>\n",
       "      <th>...</th>\n",
       "      <td>...</td>\n",
       "      <td>...</td>\n",
       "      <td>...</td>\n",
       "      <td>...</td>\n",
       "      <td>...</td>\n",
       "      <td>...</td>\n",
       "      <td>...</td>\n",
       "    </tr>\n",
       "    <tr>\n",
       "      <th>zrshelton</th>\n",
       "      <td>2.774691</td>\n",
       "      <td>1.247399</td>\n",
       "      <td>1944</td>\n",
       "      <td>784</td>\n",
       "      <td>2172</td>\n",
       "      <td>0.895028</td>\n",
       "      <td>0.360958</td>\n",
       "    </tr>\n",
       "    <tr>\n",
       "      <th>zshevich</th>\n",
       "      <td>3.082957</td>\n",
       "      <td>0.825518</td>\n",
       "      <td>3984</td>\n",
       "      <td>366</td>\n",
       "      <td>4103</td>\n",
       "      <td>0.970997</td>\n",
       "      <td>0.089203</td>\n",
       "    </tr>\n",
       "    <tr>\n",
       "      <th>zuzupan</th>\n",
       "      <td>2.349569</td>\n",
       "      <td>1.230543</td>\n",
       "      <td>1160</td>\n",
       "      <td>154</td>\n",
       "      <td>2545</td>\n",
       "      <td>0.455796</td>\n",
       "      <td>0.060511</td>\n",
       "    </tr>\n",
       "    <tr>\n",
       "      <th>zyopy</th>\n",
       "      <td>3.505846</td>\n",
       "      <td>0.924852</td>\n",
       "      <td>3678</td>\n",
       "      <td>19</td>\n",
       "      <td>3694</td>\n",
       "      <td>0.995669</td>\n",
       "      <td>0.005143</td>\n",
       "    </tr>\n",
       "    <tr>\n",
       "      <th>zyrohrvy</th>\n",
       "      <td>2.988307</td>\n",
       "      <td>1.127712</td>\n",
       "      <td>1967</td>\n",
       "      <td>27</td>\n",
       "      <td>1981</td>\n",
       "      <td>0.992933</td>\n",
       "      <td>0.013629</td>\n",
       "    </tr>\n",
       "  </tbody>\n",
       "</table>\n",
       "<p>2496 rows × 7 columns</p>\n",
       "</div>"
      ],
      "text/plain": [
       "                average_rating  rating_deviation  num_ratings  \\\n",
       "user                                                            \n",
       "000_leo               2.895613          0.748025          661   \n",
       "007filmreviwer        3.242786          1.137534         3396   \n",
       "14ltobias             3.037292          1.159730         2105   \n",
       "15stepper             3.526943          1.269656         1930   \n",
       "19thlvlcleric         3.585258          0.860654         1126   \n",
       "...                        ...               ...          ...   \n",
       "zrshelton             2.774691          1.247399         1944   \n",
       "zshevich              3.082957          0.825518         3984   \n",
       "zuzupan               2.349569          1.230543         1160   \n",
       "zyopy                 3.505846          0.924852         3678   \n",
       "zyrohrvy              2.988307          1.127712         1967   \n",
       "\n",
       "                num_liked_movies  total_movies  percent_rated  percent_liked  \n",
       "user                                                                          \n",
       "000_leo                      215          2782       0.237599       0.077283  \n",
       "007filmreviwer              2427          3401       0.998530       0.713614  \n",
       "14ltobias                    392          2417       0.870914       0.162185  \n",
       "15stepper                    665          1983       0.973273       0.335350  \n",
       "19thlvlcleric                576          1493       0.754186       0.385800  \n",
       "...                          ...           ...            ...            ...  \n",
       "zrshelton                    784          2172       0.895028       0.360958  \n",
       "zshevich                     366          4103       0.970997       0.089203  \n",
       "zuzupan                      154          2545       0.455796       0.060511  \n",
       "zyopy                         19          3694       0.995669       0.005143  \n",
       "zyrohrvy                      27          1981       0.992933       0.013629  \n",
       "\n",
       "[2496 rows x 7 columns]"
      ]
     },
     "execution_count": 8,
     "metadata": {},
     "output_type": "execute_result"
    }
   ],
   "source": [
    "user_features"
   ]
  },
  {
   "cell_type": "code",
   "execution_count": null,
   "metadata": {},
   "outputs": [],
   "source": []
  }
 ],
 "metadata": {
  "kernelspec": {
   "display_name": "lb_venv",
   "language": "python",
   "name": "python3"
  },
  "language_info": {
   "codemirror_mode": {
    "name": "ipython",
    "version": 3
   },
   "file_extension": ".py",
   "mimetype": "text/x-python",
   "name": "python",
   "nbconvert_exporter": "python",
   "pygments_lexer": "ipython3",
   "version": "3.11.5"
  }
 },
 "nbformat": 4,
 "nbformat_minor": 2
}
